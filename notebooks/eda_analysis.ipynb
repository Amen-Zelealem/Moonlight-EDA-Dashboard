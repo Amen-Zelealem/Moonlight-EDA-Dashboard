{
 "cells": [
  {
   "cell_type": "code",
   "execution_count": 1,
   "metadata": {},
   "outputs": [],
   "source": [
    "import os\n",
    "import pandas as pd\n",
    "import numpy as np\n",
    "import matplotlib.pyplot as plt\n",
    "import seaborn as sns\n",
    "from scipy.stats import zscore\n",
    "try:\n",
    "    script_dir = os.path.dirname(os.path.abspath(__file__))\n",
    "except NameError:\n",
    "    script_dir = os.getcwd()"
   ]
  },
  {
   "cell_type": "code",
   "execution_count": 2,
   "metadata": {},
   "outputs": [],
   "source": [
    "# Set folder paths\n",
    "# data_dir = os.path.join(script_dir, \"data\")\n",
    "data_dir = os.path.abspath(os.path.join(script_dir, \"..\", \"data\"))\n",
    "\n",
    "output_dir = os.path.abspath(os.path.join(script_dir,\"..\", \"Output\"))\n",
    "plots_dir = os.path.join(output_dir, \"plots\")\n",
    "summary_dir = os.path.join(output_dir, \"summary\")\n",
    "processed_data_dir = os.path.join(output_dir, \"processed\")"
   ]
  },
  {
   "cell_type": "code",
   "execution_count": 3,
   "metadata": {},
   "outputs": [],
   "source": [
    "# Create output directories if they don't exist\n",
    "for folder in [output_dir, plots_dir, summary_dir, processed_data_dir]:\n",
    "    os.makedirs(folder, exist_ok=True)"
   ]
  },
  {
   "cell_type": "code",
   "execution_count": null,
   "metadata": {},
   "outputs": [],
   "source": [
    "# Load datasets\n",
    "files = [\"benin-malanville.csv\", \"sierraleone-bumbuna.csv\", \"togo-dapaong_qc.csv\"]\n",
    "datasets = {}\n",
    "for file in files:\n",
    "    file_path = os.path.join(data_dir, file)\n",
    "    print(f\"Looking for file: {file_path}\")\n",
    "    if not os.path.exists(file_path):\n",
    "        print(f\"File not found: {file_path}\")\n",
    "        continue\n",
    "    datasets[file.split(\".\")[0]] = pd.read_csv(file_path)"
   ]
  },
  {
   "cell_type": "code",
   "execution_count": 6,
   "metadata": {},
   "outputs": [],
   "source": [
    "# Function to save plots\n",
    "def save_plot(fig, filename):\n",
    "    fig.savefig(os.path.join(plots_dir, filename), bbox_inches=\"tight\")\n",
    "    plt.close(fig)\n"
   ]
  },
  {
   "cell_type": "code",
   "execution_count": 7,
   "metadata": {},
   "outputs": [],
   "source": [
    "# Function for summary statistics\n",
    "def generate_summary_statistics(df, filename):\n",
    "    summary = df.describe().T\n",
    "    summary[\"missing\"] = df.isnull().sum()\n",
    "    summary.to_csv(os.path.join(summary_dir, filename))\n",
    "    return summary"
   ]
  },
  {
   "cell_type": "code",
   "execution_count": null,
   "metadata": {},
   "outputs": [],
   "source": [
    "# Perform EDA on each dataset\n",
    "for name, df in datasets.items():\n",
    "    print(f\"Processing dataset: {name}\")"
   ]
  },
  {
   "cell_type": "code",
   "execution_count": null,
   "metadata": {},
   "outputs": [],
   "source": [
    " # Summary statistics\n",
    "summary = generate_summary_statistics(df, f\"summary_{name}.csv\")\n",
    "print(summary)"
   ]
  },
  {
   "cell_type": "code",
   "execution_count": null,
   "metadata": {},
   "outputs": [],
   "source": [
    "# Data quality check\n",
    "print(\"Checking for missing values...\")\n",
    "missing_values = df.isnull().sum()\n",
    "print(missing_values)"
   ]
  },
  {
   "cell_type": "code",
   "execution_count": null,
   "metadata": {},
   "outputs": [],
   "source": []
  },
  {
   "cell_type": "code",
   "execution_count": null,
   "metadata": {},
   "outputs": [],
   "source": [
    "print(\"Checking for outliers...\")\n",
    "numeric_cols = df.select_dtypes(include=[np.number]).columns\n",
    "if not numeric_cols.empty:\n",
    "    z_scores = np.abs(zscore(df[numeric_cols].dropna()))\n",
    "    outliers = (z_scores > 3).sum(axis=0)\n",
    "    print(outliers)"
   ]
  },
  {
   "cell_type": "code",
   "execution_count": 12,
   "metadata": {},
   "outputs": [],
   "source": [
    "# Time Series Analysis\n",
    "time_cols = [\"GHI\", \"DNI\", \"DHI\", \"Tamb\"]\n",
    "time_cols = [col for col in time_cols if col in df.columns]\n",
    "if \"Date\" in df.columns:\n",
    "    df[\"Date\"] = pd.to_datetime(df[\"Date\"])\n",
    "    df.set_index(\"Date\", inplace=True)\n",
    "    fig, ax = plt.subplots(figsize=(10, 6))\n",
    "    df[time_cols].plot(ax=ax, title=f\"Time Series Analysis: {name}\")\n",
    "    save_plot(fig, f\"time_series_{name}.png\")"
   ]
  },
  {
   "cell_type": "code",
   "execution_count": 13,
   "metadata": {},
   "outputs": [],
   "source": [
    "# Correlation Analysis\n",
    "if not df[numeric_cols].empty:\n",
    "    corr = df[numeric_cols].corr()\n",
    "    fig, ax = plt.subplots(figsize=(10, 8))\n",
    "    sns.heatmap(corr, annot=True, cmap=\"coolwarm\", ax=ax)\n",
    "    ax.set_title(f\"Correlation Matrix: {name}\")\n",
    "    save_plot(fig, f\"correlation_matrix_{name}.png\")"
   ]
  },
  {
   "cell_type": "code",
   "execution_count": 14,
   "metadata": {},
   "outputs": [],
   "source": [
    "# Wind Analysis\n",
    "if \"WS\" in df.columns and \"WD\" in df.columns:\n",
    "    fig, ax = plt.subplots(figsize=(8, 8))\n",
    "    sns.histplot(df[\"WS\"], kde=True, ax=ax)\n",
    "    ax.set_title(f\"Wind Speed Distribution: {name}\")\n",
    "    save_plot(fig, f\"wind_speed_distribution_{name}.png\")"
   ]
  },
  {
   "cell_type": "code",
   "execution_count": 15,
   "metadata": {},
   "outputs": [],
   "source": [
    "# Histograms\n",
    "fig, axes = plt.subplots(len(numeric_cols) // 3 + 1, 3, figsize=(15, 10))\n",
    "axes = axes.flatten()\n",
    "for i, col in enumerate(numeric_cols):\n",
    "    sns.histplot(df[col], kde=True, ax=axes[i])\n",
    "    axes[i].set_title(f\"Histogram: {col}\")\n",
    "save_plot(fig, f\"histograms_{name}.png\")"
   ]
  },
  {
   "cell_type": "code",
   "execution_count": null,
   "metadata": {},
   "outputs": [],
   "source": [
    "# Bubble Chart\n",
    "bubble_vars = [\"GHI\", \"Tamb\", \"WS\", \"RH\"]\n",
    "bubble_vars = [col for col in bubble_vars if col in df.columns]\n",
    "if len(bubble_vars) >= 3:\n",
    "    fig, ax = plt.subplots(figsize=(10, 6))\n",
    "    sns.scatterplot(\n",
    "        x=bubble_vars[0],\n",
    "        y=bubble_vars[1],\n",
    "        size=bubble_vars[2],\n",
    "        hue=bubble_vars[2],\n",
    "        sizes=(40, 400),\n",
    "        data=df,\n",
    "        ax=ax,\n",
    "    )\n",
    "    ax.set_title(f\"Bubble Chart: {name}\")\n",
    "    save_plot(fig, f\"bubble_chart_{name}.png\")"
   ]
  },
  {
   "cell_type": "code",
   "execution_count": null,
   "metadata": {},
   "outputs": [],
   "source": [
    "# Data Cleaning\n",
    "if \"Comments\" in df.columns:\n",
    "    df.drop(columns=[\"Comments\"], inplace=True)\n",
    "df.fillna(method=\"ffill\", inplace=True)\n",
    "df.fillna(method=\"bfill\", inplace=True)\n",
    "processed_file_path = os.path.join(processed_data_dir, f\"cleaned_{name}.csv\")\n",
    "df.to_csv(processed_file_path, index=False)\n",
    "\n",
    "print(f\"Finished processing dataset: {name}\\n\")"
   ]
  }
 ],
 "metadata": {
  "kernelspec": {
   "display_name": "myvenv",
   "language": "python",
   "name": "python3"
  },
  "language_info": {
   "codemirror_mode": {
    "name": "ipython",
    "version": 3
   },
   "file_extension": ".py",
   "mimetype": "text/x-python",
   "name": "python",
   "nbconvert_exporter": "python",
   "pygments_lexer": "ipython3",
   "version": "3.12.7"
  }
 },
 "nbformat": 4,
 "nbformat_minor": 2
}
