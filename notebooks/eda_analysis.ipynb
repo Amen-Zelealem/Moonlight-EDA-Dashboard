{
 "cells": [
  {
   "cell_type": "code",
   "execution_count": 17,
   "metadata": {},
   "outputs": [],
   "source": [
    "import os\n",
    "import pandas as pd\n",
    "import numpy as np\n",
    "import matplotlib.pyplot as plt\n",
    "import seaborn as sns\n",
    "from scipy.stats import zscore\n",
    "try:\n",
    "    script_dir = os.path.dirname(os.path.abspath(__file__))\n",
    "except NameError:\n",
    "    script_dir = os.getcwd()"
   ]
  },
  {
   "cell_type": "code",
   "execution_count": 22,
   "metadata": {},
   "outputs": [],
   "source": [
    "# Set folder paths\n",
    "# data_dir = os.path.join(script_dir, \"data\")\n",
    "data_dir = os.path.abspath(os.path.join(script_dir, \"..\", \"data\"))\n",
    "\n",
    "output_dir = os.path.abspath(os.path.join(script_dir,\"..\", \"Output\"))\n",
    "plots_dir = os.path.join(output_dir, \"plots\")\n",
    "summary_dir = os.path.join(output_dir, \"summary\")\n",
    "processed_data_dir = os.path.join(output_dir, \"processed\")"
   ]
  },
  {
   "cell_type": "code",
   "execution_count": 23,
   "metadata": {},
   "outputs": [],
   "source": [
    "# Create output directories if they don't exist\n",
    "for folder in [output_dir, plots_dir, summary_dir, processed_data_dir]:\n",
    "    os.makedirs(folder, exist_ok=True)"
   ]
  },
  {
   "cell_type": "code",
   "execution_count": 24,
   "metadata": {},
   "outputs": [
    {
     "name": "stdout",
     "output_type": "stream",
     "text": [
      "Looking for file: d:\\KAIM\\Moonlight-EDA-Dashboard\\data\\benin-malanville.csv\n",
      "Looking for file: d:\\KAIM\\Moonlight-EDA-Dashboard\\data\\sierraleone-bumbuna.csv\n",
      "Looking for file: d:\\KAIM\\Moonlight-EDA-Dashboard\\data\\togo-dapaong_qc.csv\n"
     ]
    }
   ],
   "source": [
    "# Load datasets\n",
    "files = [\"benin-malanville.csv\", \"sierraleone-bumbuna.csv\", \"togo-dapaong_qc.csv\"]\n",
    "datasets = {}\n",
    "for file in files:\n",
    "    file_path = os.path.join(data_dir, file)\n",
    "    print(f\"Looking for file: {file_path}\")\n",
    "    if not os.path.exists(file_path):\n",
    "        print(f\"File not found: {file_path}\")\n",
    "        continue\n",
    "    datasets[file.split(\".\")[0]] = pd.read_csv(file_path)"
   ]
  },
  {
   "cell_type": "code",
   "execution_count": 25,
   "metadata": {},
   "outputs": [],
   "source": [
    "# Function to save plots\n",
    "def save_plot(fig, filename):\n",
    "    fig.savefig(os.path.join(plots_dir, filename), bbox_inches=\"tight\")\n",
    "    plt.close(fig)\n"
   ]
  },
  {
   "cell_type": "code",
   "execution_count": 26,
   "metadata": {},
   "outputs": [],
   "source": [
    "# Function for summary statistics\n",
    "def generate_summary_statistics(df, filename):\n",
    "    summary = df.describe().T\n",
    "    summary[\"missing\"] = df.isnull().sum()\n",
    "    summary.to_csv(os.path.join(summary_dir, filename))\n",
    "    return summary"
   ]
  },
  {
   "cell_type": "code",
   "execution_count": 27,
   "metadata": {},
   "outputs": [
    {
     "name": "stdout",
     "output_type": "stream",
     "text": [
      "Processing dataset: benin-malanville\n",
      "Processing dataset: sierraleone-bumbuna\n",
      "Processing dataset: togo-dapaong_qc\n"
     ]
    }
   ],
   "source": [
    "# Perform EDA on each dataset\n",
    "for name, df in datasets.items():\n",
    "    print(f\"Processing dataset: {name}\")"
   ]
  },
  {
   "cell_type": "code",
   "execution_count": 28,
   "metadata": {},
   "outputs": [
    {
     "name": "stdout",
     "output_type": "stream",
     "text": [
      "                  count        mean         std    min    25%    50%      75%  \\\n",
      "GHI            525600.0  230.555040  322.532347  -12.7   -2.2    2.1  442.400   \n",
      "DNI            525600.0  151.258469  250.956962    0.0    0.0    0.0  246.400   \n",
      "DHI            525600.0  116.444352  156.520714    0.0    0.0    2.5  215.700   \n",
      "ModA           525600.0  226.144375  317.346938    0.0    0.0    4.4  422.525   \n",
      "ModB           525600.0  219.568588  307.932510    0.0    0.0    4.3  411.000   \n",
      "Tamb           525600.0   27.751788    4.758023   14.9   24.2   27.2   31.100   \n",
      "RH             525600.0   55.013160   28.778732    3.3   26.5   59.3   80.800   \n",
      "WS             525600.0    2.368093    1.462668    0.0    1.4    2.2    3.200   \n",
      "WSgust         525600.0    3.229490    1.882565    0.0    1.9    2.9    4.400   \n",
      "WSstdev        525600.0    0.557740    0.268923    0.0    0.4    0.5    0.700   \n",
      "WD             525600.0  161.741845   91.877217    0.0   74.8  199.1  233.500   \n",
      "WDstdev        525600.0   10.559568    5.915490    0.0    6.9   10.8   14.100   \n",
      "BP             525600.0  975.915242    2.153977  968.0  975.0  976.0  977.000   \n",
      "Cleaning       525600.0    0.000535    0.023116    0.0    0.0    0.0    0.000   \n",
      "Precipitation  525600.0    0.001382    0.026350    0.0    0.0    0.0    0.000   \n",
      "TModA          525600.0   32.444403   10.998334   13.1   23.9   28.4   40.600   \n",
      "TModB          525600.0   33.543330   12.769277   13.1   23.6   28.4   43.000   \n",
      "Comments            0.0         NaN         NaN    NaN    NaN    NaN      NaN   \n",
      "\n",
      "                  max  missing  \n",
      "GHI            1424.0        0  \n",
      "DNI            1004.5        0  \n",
      "DHI             805.7        0  \n",
      "ModA           1380.0        0  \n",
      "ModB           1367.0        0  \n",
      "Tamb             41.4        0  \n",
      "RH               99.8        0  \n",
      "WS               16.1        0  \n",
      "WSgust           23.1        0  \n",
      "WSstdev           4.7        0  \n",
      "WD              360.0        0  \n",
      "WDstdev          86.9        0  \n",
      "BP              983.0        0  \n",
      "Cleaning          1.0        0  \n",
      "Precipitation     2.3        0  \n",
      "TModA            70.4        0  \n",
      "TModB            94.6        0  \n",
      "Comments          NaN   525600  \n"
     ]
    }
   ],
   "source": [
    " # Summary statistics\n",
    "summary = generate_summary_statistics(df, f\"summary_{name}.csv\")\n",
    "print(summary)"
   ]
  },
  {
   "cell_type": "code",
   "execution_count": 29,
   "metadata": {},
   "outputs": [
    {
     "name": "stdout",
     "output_type": "stream",
     "text": [
      "Checking for missing values...\n",
      "Timestamp             0\n",
      "GHI                   0\n",
      "DNI                   0\n",
      "DHI                   0\n",
      "ModA                  0\n",
      "ModB                  0\n",
      "Tamb                  0\n",
      "RH                    0\n",
      "WS                    0\n",
      "WSgust                0\n",
      "WSstdev               0\n",
      "WD                    0\n",
      "WDstdev               0\n",
      "BP                    0\n",
      "Cleaning              0\n",
      "Precipitation         0\n",
      "TModA                 0\n",
      "TModB                 0\n",
      "Comments         525600\n",
      "dtype: int64\n"
     ]
    }
   ],
   "source": [
    "# Data quality check\n",
    "print(\"Checking for missing values...\")\n",
    "missing_values = df.isnull().sum()\n",
    "print(missing_values)"
   ]
  },
  {
   "cell_type": "code",
   "execution_count": 30,
   "metadata": {},
   "outputs": [
    {
     "name": "stdout",
     "output_type": "stream",
     "text": [
      "Checking for outliers...\n",
      "[0 0 0 0 0 0 0 0 0 0 0 0 0 0 0 0 0 0]\n"
     ]
    }
   ],
   "source": [
    "print(\"Checking for outliers...\")\n",
    "numeric_cols = df.select_dtypes(include=[np.number]).columns\n",
    "if not numeric_cols.empty:\n",
    "    z_scores = np.abs(zscore(df[numeric_cols].dropna()))\n",
    "    outliers = (z_scores > 3).sum(axis=0)\n",
    "    print(outliers)"
   ]
  },
  {
   "cell_type": "code",
   "execution_count": 31,
   "metadata": {},
   "outputs": [],
   "source": [
    "# Time Series Analysis\n",
    "time_cols = [\"GHI\", \"DNI\", \"DHI\", \"Tamb\"]\n",
    "time_cols = [col for col in time_cols if col in df.columns]\n",
    "if \"Date\" in df.columns:\n",
    "    df[\"Date\"] = pd.to_datetime(df[\"Date\"])\n",
    "    df.set_index(\"Date\", inplace=True)\n",
    "    fig, ax = plt.subplots(figsize=(10, 6))\n",
    "    df[time_cols].plot(ax=ax, title=f\"Time Series Analysis: {name}\")\n",
    "    save_plot(fig, f\"time_series_{name}.png\")"
   ]
  },
  {
   "cell_type": "code",
   "execution_count": 32,
   "metadata": {},
   "outputs": [],
   "source": [
    "# Correlation Analysis\n",
    "if not df[numeric_cols].empty:\n",
    "    corr = df[numeric_cols].corr()\n",
    "    fig, ax = plt.subplots(figsize=(10, 8))\n",
    "    sns.heatmap(corr, annot=True, cmap=\"coolwarm\", ax=ax)\n",
    "    ax.set_title(f\"Correlation Matrix: {name}\")\n",
    "    save_plot(fig, f\"correlation_matrix_{name}.png\")"
   ]
  },
  {
   "cell_type": "code",
   "execution_count": 33,
   "metadata": {},
   "outputs": [],
   "source": [
    "# Wind Analysis\n",
    "if \"WS\" in df.columns and \"WD\" in df.columns:\n",
    "    fig, ax = plt.subplots(figsize=(8, 8))\n",
    "    sns.histplot(df[\"WS\"], kde=True, ax=ax)\n",
    "    ax.set_title(f\"Wind Speed Distribution: {name}\")\n",
    "    save_plot(fig, f\"wind_speed_distribution_{name}.png\")"
   ]
  },
  {
   "cell_type": "code",
   "execution_count": 34,
   "metadata": {},
   "outputs": [],
   "source": [
    "# Histograms\n",
    "fig, axes = plt.subplots(len(numeric_cols) // 3 + 1, 3, figsize=(15, 10))\n",
    "axes = axes.flatten()\n",
    "for i, col in enumerate(numeric_cols):\n",
    "    sns.histplot(df[col], kde=True, ax=axes[i])\n",
    "    axes[i].set_title(f\"Histogram: {col}\")\n",
    "save_plot(fig, f\"histograms_{name}.png\")"
   ]
  },
  {
   "cell_type": "code",
   "execution_count": 35,
   "metadata": {},
   "outputs": [],
   "source": [
    "# Bubble Chart\n",
    "bubble_vars = [\"GHI\", \"Tamb\", \"WS\", \"RH\"]\n",
    "bubble_vars = [col for col in bubble_vars if col in df.columns]\n",
    "if len(bubble_vars) >= 3:\n",
    "    fig, ax = plt.subplots(figsize=(10, 6))\n",
    "    sns.scatterplot(\n",
    "        x=bubble_vars[0],\n",
    "        y=bubble_vars[1],\n",
    "        size=bubble_vars[2],\n",
    "        hue=bubble_vars[2],\n",
    "        sizes=(40, 400),\n",
    "        data=df,\n",
    "        ax=ax,\n",
    "    )\n",
    "    ax.set_title(f\"Bubble Chart: {name}\")\n",
    "    save_plot(fig, f\"bubble_chart_{name}.png\")"
   ]
  },
  {
   "cell_type": "code",
   "execution_count": 36,
   "metadata": {},
   "outputs": [
    {
     "name": "stderr",
     "output_type": "stream",
     "text": [
      "C:\\Users\\amenz\\AppData\\Local\\Temp\\ipykernel_9696\\2832412495.py:4: FutureWarning: DataFrame.fillna with 'method' is deprecated and will raise in a future version. Use obj.ffill() or obj.bfill() instead.\n",
      "  df.fillna(method=\"ffill\", inplace=True)\n",
      "C:\\Users\\amenz\\AppData\\Local\\Temp\\ipykernel_9696\\2832412495.py:5: FutureWarning: DataFrame.fillna with 'method' is deprecated and will raise in a future version. Use obj.ffill() or obj.bfill() instead.\n",
      "  df.fillna(method=\"bfill\", inplace=True)\n"
     ]
    },
    {
     "name": "stdout",
     "output_type": "stream",
     "text": [
      "Finished processing dataset: togo-dapaong_qc\n",
      "\n"
     ]
    }
   ],
   "source": [
    "# Data Cleaning\n",
    "if \"Comments\" in df.columns:\n",
    "    df.drop(columns=[\"Comments\"], inplace=True)\n",
    "df.fillna(method=\"ffill\", inplace=True)\n",
    "df.fillna(method=\"bfill\", inplace=True)\n",
    "processed_file_path = os.path.join(processed_data_dir, f\"cleaned_{name}.csv\")\n",
    "df.to_csv(processed_file_path, index=False)\n",
    "\n",
    "print(f\"Finished processing dataset: {name}\\n\")"
   ]
  }
 ],
 "metadata": {
  "kernelspec": {
   "display_name": "myvenv",
   "language": "python",
   "name": "python3"
  },
  "language_info": {
   "codemirror_mode": {
    "name": "ipython",
    "version": 3
   },
   "file_extension": ".py",
   "mimetype": "text/x-python",
   "name": "python",
   "nbconvert_exporter": "python",
   "pygments_lexer": "ipython3",
   "version": "3.12.7"
  }
 },
 "nbformat": 4,
 "nbformat_minor": 2
}
